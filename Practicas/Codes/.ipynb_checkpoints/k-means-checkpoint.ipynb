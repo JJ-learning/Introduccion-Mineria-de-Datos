{
 "cells": [
  {
   "cell_type": "code",
   "execution_count": 13,
   "metadata": {},
   "outputs": [],
   "source": [
    "import numpy as np\n",
    "import pandas as pd\n",
    "import matplotlib.pyplot as plt\n",
    "\n",
    "from sklearn.cluster import KMeans\n"
   ]
  },
  {
   "cell_type": "markdown",
   "metadata": {},
   "source": [
    "Primero, declaramos los valores iniciales y recogemos los datos"
   ]
  },
  {
   "cell_type": "code",
   "execution_count": 25,
   "metadata": {},
   "outputs": [
    {
     "name": "stdout",
     "output_type": "stream",
     "text": [
      "The centroids are: \n",
      " [[4.69       3.085      1.385      0.19      ]\n",
      " [6.         2.5        4.12857143 1.21428571]\n",
      " [5.32727273 2.45454545 3.59090909 1.11818182]\n",
      " [7.475      3.125      6.3        2.05      ]\n",
      " [5.07894737 3.5        1.55263158 0.29473684]\n",
      " [5.49       3.92       1.46       0.26      ]\n",
      " [5.56666667 2.81666667 4.28333333 1.36666667]\n",
      " [6.45       3.01666667 4.60555556 1.43888889]\n",
      " [6.02777778 2.73333333 5.02777778 1.79444444]\n",
      " [6.56818182 3.08636364 5.53636364 2.16363636]]\n",
      "\n",
      "The SSE is: 12808.054305062547\n"
     ]
    },
    {
     "data": {
      "text/plain": [
       "[<matplotlib.lines.Line2D at 0x1a2055d2e8>]"
      ]
     },
     "execution_count": 25,
     "metadata": {},
     "output_type": "execute_result"
    },
    {
     "data": {
      "image/png": "[encoded data removed]",
      "text/plain": [
       "<Figure size 432x288 with 1 Axes>"
      ]
     },
     "metadata": {
      "needs_background": "light"
     },
     "output_type": "display_data"
    }
   ],
   "source": [
    "fichero = \"iris.csv\"\n",
    "amount_centroides = 10\n",
    "seed = 15\n",
    "\n",
    "np.random.seed(seed)\n",
    "atributes, classes = readData(fichero)\n",
    "kmeans, distances, centros = clustering(atributes, amount_centroides)\n",
    "SSE = calculateSSE(distances)\n",
    "\n",
    "print(\"The centroids are: \\n\", centros)\n",
    "print(\"\\nThe SSE is:\", sum(SSE))\n",
    "\n",
    "plt.title('Nº of clusters/SSE')\n",
    "plt.plot(range(1, centros.shape[0]+1), SSE[:])"
   ]
  },
  {
   "cell_type": "code",
   "execution_count": 3,
   "metadata": {},
   "outputs": [],
   "source": [
    "def clustering(atributes, amount_centroides):\n",
    "    centroides = atributes[np.random.choice(atributes.shape[0], amount_centroides, replace=False)]\n",
    "    kmeans = KMeans(n_clusters = amount_centroides, init = centroides, max_iter = 500, n_init = 1, random_state = 0)\n",
    "    distances = kmeans.fit_transform(atributes)\n",
    "    centros = kmeans.cluster_centers_\n",
    "\n",
    "    return kmeans, distances, centros"
   ]
  },
  {
   "cell_type": "code",
   "execution_count": 4,
   "metadata": {},
   "outputs": [],
   "source": [
    "def readData(fichero):\n",
    "    data = pd.read_csv(fichero, header=None)\n",
    "    atributes = data.values[1:, 0:-1]\n",
    "    classes = data.values[1:, -1]\n",
    "\n",
    "    return atributes, classes"
   ]
  },
  {
   "cell_type": "code",
   "execution_count": 5,
   "metadata": {},
   "outputs": [],
   "source": [
    "def calculateSSE(distances):\n",
    "    SSE = 0\n",
    "    for i in range(distances.shape[0]):\n",
    "        SSE += pow(distances[i], 2)\n",
    "\n",
    "    return SSE"
   ]
  },
  {
   "cell_type": "markdown",
   "metadata": {},
   "source": [
    "Una vez declaradas todas las funciones, las ejecutaremos para realizar nuestra clasificación"
   ]
  },
  {
   "cell_type": "code",
   "execution_count": null,
   "metadata": {},
   "outputs": [],
   "source": []
  },
  {
   "cell_type": "code",
   "execution_count": null,
   "metadata": {},
   "outputs": [],
   "source": []
  },
  {
   "cell_type": "code",
   "execution_count": null,
   "metadata": {},
   "outputs": [],
   "source": []
  },
  {
   "cell_type": "code",
   "execution_count": null,
   "metadata": {},
   "outputs": [],
   "source": []
  }
 ],
 "metadata": {
  "kernelspec": {
   "display_name": "Python 3",
   "language": "python",
   "name": "python3"
  },
  "language_info": {
   "codemirror_mode": {
    "name": "ipython",
    "version": 3
   },
   "file_extension": ".py",
   "mimetype": "text/x-python",
   "name": "python",
   "nbconvert_exporter": "python",
   "pygments_lexer": "ipython3",
   "version": "3.7.0"
  }
 },
 "nbformat": 4,
 "nbformat_minor": 2
}
